{
 "cells": [
  {
   "cell_type": "code",
   "execution_count": null,
   "id": "44a9d021",
   "metadata": {},
   "outputs": [],
   "source": [
    "import pandas as pd\n",
    "import numpy as np\n"
   ]
  },
  {
   "cell_type": "code",
   "execution_count": null,
   "id": "188f3f5e",
   "metadata": {},
   "outputs": [],
   "source": [
    "customers = pd.read_csv('olist_customers_dataset.csv')\n",
    "orders = pd.read_csv('olist_orders_dataset.csv')\n",
    "order_items = pd.read_csv('olist_order_items_dataset.csv')\n",
    "payments = pd.read_csv('olist_order_payments_dataset.csv')\n",
    "reviews = pd.read_csv('olist_order_reviews_dataset.csv')"
   ]
  },
  {
   "cell_type": "code",
   "execution_count": null,
   "id": "c9cba2ca",
   "metadata": {},
   "outputs": [],
   "source": [
    "# 2. Número de pedidos por cliente\n",
    "orders_per_customer = orders.groupby('customer_id').order_id.nunique().reset_index()\n",
    "orders_per_customer.columns = ['customer_id', 'num_orders']\n"
   ]
  },
  {
   "cell_type": "code",
   "execution_count": null,
   "id": "7f775357",
   "metadata": {},
   "outputs": [],
   "source": [
    "# 3. Valor total gasto por cliente\n",
    "order_items['total_price'] = order_items['price'] + order_items['freight_value']\n",
    "order_value = order_items.groupby('order_id')['total_price'].sum().reset_index()\n",
    "orders_value = pd.merge(orders[['order_id', 'customer_id']], order_value, on='order_id', how='left')\n",
    "total_spent = orders_value.groupby('customer_id')['total_price'].sum().reset_index()\n",
    "total_spent.columns = ['customer_id', 'total_spent']\n"
   ]
  },
  {
   "cell_type": "code",
   "execution_count": null,
   "id": "670127f6",
   "metadata": {},
   "outputs": [],
   "source": [
    "# 4. Ticket médio por cliente\n",
    "avg_ticket = total_spent.merge(orders_per_customer, on='customer_id')\n",
    "avg_ticket['avg_ticket'] = avg_ticket['total_spent'] / avg_ticket['num_orders']\n"
   ]
  },
  {
   "cell_type": "code",
   "execution_count": null,
   "id": "ddbfb684",
   "metadata": {},
   "outputs": [],
   "source": [
    "# 5. Média das avaliações por cliente\n",
    "orders_reviews = pd.merge(orders[['order_id', 'customer_id']], reviews[['order_id', 'review_score']], on='order_id', how='left')\n",
    "avg_review = orders_reviews.groupby('customer_id')['review_score'].mean().reset_index()\n",
    "avg_review.columns = ['customer_id', 'avg_review_score']\n"
   ]
  },
  {
   "cell_type": "code",
   "execution_count": null,
   "id": "d7d1a032",
   "metadata": {},
   "outputs": [],
   "source": [
    "# 6. Frequência de compra (tempo médio entre pedidos)\n",
    "orders['order_purchase_timestamp'] = pd.to_datetime(orders['order_purchase_timestamp'])\n",
    "orders_sorted = orders.sort_values(['customer_id', 'order_purchase_timestamp'])\n",
    "orders_sorted['prev_order'] = orders_sorted.groupby('customer_id')['order_purchase_timestamp'].shift(1)\n",
    "orders_sorted['days_between_orders'] = (orders_sorted['order_purchase_timestamp'] - orders_sorted['prev_order']).dt.days\n",
    "avg_freq = orders_sorted.groupby('customer_id')['days_between_orders'].mean().reset_index()\n",
    "avg_freq.columns = ['customer_id', 'avg_days_between_orders']\n"
   ]
  },
  {
   "cell_type": "code",
   "execution_count": null,
   "id": "57607d46",
   "metadata": {},
   "outputs": [],
   "source": [
    "# 7. Unindo todas as features em um único dataframe\n",
    "features = customers[['customer_id']].drop_duplicates()\n",
    "features = features.merge(orders_per_customer, on='customer_id', how='left')\n",
    "features = features.merge(total_spent, on='customer_id', how='left')\n",
    "features = features.merge(avg_ticket[['customer_id', 'avg_ticket']], on='customer_id', how='left')\n",
    "features = features.merge(avg_review, on='customer_id', how='left')\n",
    "features = features.merge(avg_freq, on='customer_id', how='left')\n"
   ]
  },
  {
   "cell_type": "code",
   "execution_count": null,
   "id": "dc5d26b8",
   "metadata": {},
   "outputs": [],
   "source": [
    "print(features.head())"
   ]
  }
 ],
 "metadata": {
  "kernelspec": {
   "display_name": "Python 3",
   "language": "python",
   "name": "python3"
  },
  "language_info": {
   "name": "python",
   "version": "3.12.7"
  }
 },
 "nbformat": 4,
 "nbformat_minor": 5
}
